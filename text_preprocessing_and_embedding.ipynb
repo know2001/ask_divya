{
 "cells": [
  {
   "cell_type": "code",
   "execution_count": 43,
   "metadata": {},
   "outputs": [],
   "source": [
    "import pandas as pd\n",
    "import re"
   ]
  },
  {
   "cell_type": "code",
   "execution_count": 56,
   "metadata": {},
   "outputs": [],
   "source": [
    "df = pd.read_csv('scraped_data.csv')"
   ]
  },
  {
   "cell_type": "code",
   "execution_count": 58,
   "metadata": {},
   "outputs": [],
   "source": [
    "## Data Cleaning\n",
    "def remove_unwanted_text(df, unwanted_text):\n",
    "   df['text'] = df['text'].apply(lambda x: x.replace(unwanted_text, '', 1) if x.starstswith(unwanted_text) else x)\n",
    "   return df\n",
    "\n",
    "def search_and_remove_patterns(df, pattern_list, verbose=False):\n",
    "    \"\"\"\n",
    "    This function searches and removes patterns from the pattern list, \n",
    "    showing you which matches and where have they been found,\n",
    "    also telling you how many matches have been replaced by ''.\n",
    "    \"\"\"\n",
    "    words_removed = []\n",
    "    for i, text in enumerate(df['text']):\n",
    "        if verbose: print(f'\\n\\n**************Text {i}****************')\n",
    "        matched_search = True\n",
    "        while matched_search is True:\n",
    "            matched_search = False\n",
    "            for pattern in pattern_list:\n",
    "                result = re.search(pattern, df.loc[i, 'text'], flags=0)\n",
    "                if result!=None:\n",
    "                    if verbose: print(f'match: {result[0]}')\n",
    "                    matched_search = True\n",
    "                    words_removed.append(result[0])\n",
    "                    df.loc[i, 'text'] = df.loc[i, 'text'].replace(result[0], '').strip() # strip removes whitespaces accumulated at the start/end of the string\n",
    "    print(f'{len(words_removed)} words were removed ({len(set(words_removed))} different words): \\n{set(words_removed)}')\n",
    "    return df\n",
    "\n",
    "\n",
    "def preprocess_text(text):\n",
    "    \"\"\"\n",
    "    With thisfunction we remove PDF files [r'\\(PDF, \\d+\\.\\d* KB\\)', r'\\(PDF, \\d+\\.\\d* MB\\)', r'\\(PDF\\)'], tags r'\\[\\d+\\]', and excessive whitespace r'\\s+'.\n",
    "    \"\"\"\n",
    "    pdf_pattern_list = [r'\\(PDF, \\d+\\.\\d* KB\\)', r'\\(PDF, \\d+\\.\\d* MB\\)', r'\\(PDF\\)']\n",
    "    # Remove PDF files\n",
    "    for pattern in pdf_pattern_list:\n",
    "        text = re.sub(pattern, '', text)\n",
    "    # Remove reference tags\n",
    "    text = re.sub(r'\\[\\d+\\]', '', text)\n",
    "    # Remove excessive whitespace\n",
    "    text = re.sub(r'\\s+', ' ', text).strip()\n",
    "    return text\n",
    "\n",
    "def split_into_sections(text, max_length=1600):\n",
    "    # Split the text into paragraphs\n",
    "    paragraphs = text.split('\\n')\n",
    "    sections = []\n",
    "    section = ''\n",
    "    for paragraph in paragraphs:\n",
    "        # If adding the next paragraph doesn't exceed the maximum length,\n",
    "        # add the paragraph to the current section\n",
    "        if len(section) + len(paragraph) < max_length:\n",
    "            section += paragraph\n",
    "        else:\n",
    "            # If it does, start a new section\n",
    "            sections.append(section)\n",
    "            section = paragraph\n",
    "    # Don't forget to add the last section\n",
    "    if section:\n",
    "        sections.append(section)\n",
    "    return sections\n",
    "\n",
    "def post_process(df):\n",
    "    # Clean up the text\n",
    "    df['text'] = df['text'].apply(preprocess_text)\n",
    "    # Split each article into sections\n",
    "    df['sections'] = df['text'].apply(split_into_sections)\n",
    "    # Prepend titles to each section's text\n",
    "    df['sections'] = df.apply(lambda row: [f\"{row['title']}\\n{section}\" for section in row['sections']], axis=1)\n",
    "    # Unroll the sections into separate rows\n",
    "    df = df.explode('sections')\n",
    "    df['text'] = df['sections']\n",
    "    df.drop(columns=['sections'], inplace=True)\n",
    "    return df\n",
    "\n",
    "df1 = post_process(df)"
   ]
  },
  {
   "cell_type": "code",
   "execution_count": 60,
   "metadata": {},
   "outputs": [
    {
     "name": "stdout",
     "output_type": "stream",
     "text": [
      "\n",
      "\n",
      "**************Text 0****************\n"
     ]
    },
    {
     "ename": "TypeError",
     "evalue": "expected string or bytes-like object, got 'Series'",
     "output_type": "error",
     "traceback": [
      "\u001b[1;31m---------------------------------------------------------------------------\u001b[0m",
      "\u001b[1;31mTypeError\u001b[0m                                 Traceback (most recent call last)",
      "Cell \u001b[1;32mIn[60], line 1\u001b[0m\n\u001b[1;32m----> 1\u001b[0m search_and_remove_patterns(df1, [\u001b[39mr\u001b[39m\u001b[39m'\u001b[39m\u001b[39m\\\u001b[39m\u001b[39m(PDF, \u001b[39m\u001b[39m\\\u001b[39m\u001b[39md+\u001b[39m\u001b[39m\\\u001b[39m\u001b[39m.\u001b[39m\u001b[39m\\\u001b[39m\u001b[39md* KB\u001b[39m\u001b[39m\\\u001b[39m\u001b[39m)\u001b[39m\u001b[39m'\u001b[39m, \u001b[39mr\u001b[39m\u001b[39m'\u001b[39m\u001b[39m\\\u001b[39m\u001b[39m(PDF, \u001b[39m\u001b[39m\\\u001b[39m\u001b[39md+\u001b[39m\u001b[39m\\\u001b[39m\u001b[39m.\u001b[39m\u001b[39m\\\u001b[39m\u001b[39md* MB\u001b[39m\u001b[39m\\\u001b[39m\u001b[39m)\u001b[39m\u001b[39m'\u001b[39m, \u001b[39mr\u001b[39m\u001b[39m'\u001b[39m\u001b[39m\\\u001b[39m\u001b[39m(PDF\u001b[39m\u001b[39m\\\u001b[39m\u001b[39m)\u001b[39m\u001b[39m'\u001b[39m], verbose\u001b[39m=\u001b[39m\u001b[39mTrue\u001b[39;00m)\n",
      "Cell \u001b[1;32mIn[58], line 19\u001b[0m, in \u001b[0;36msearch_and_remove_patterns\u001b[1;34m(df, pattern_list, verbose)\u001b[0m\n\u001b[0;32m     17\u001b[0m matched_search \u001b[39m=\u001b[39m \u001b[39mFalse\u001b[39;00m\n\u001b[0;32m     18\u001b[0m \u001b[39mfor\u001b[39;00m pattern \u001b[39min\u001b[39;00m pattern_list:\n\u001b[1;32m---> 19\u001b[0m     result \u001b[39m=\u001b[39m re\u001b[39m.\u001b[39msearch(pattern, df\u001b[39m.\u001b[39mloc[i, \u001b[39m'\u001b[39m\u001b[39mtext\u001b[39m\u001b[39m'\u001b[39m], flags\u001b[39m=\u001b[39m\u001b[39m0\u001b[39m)\n\u001b[0;32m     20\u001b[0m     \u001b[39mif\u001b[39;00m result\u001b[39m!=\u001b[39m\u001b[39mNone\u001b[39;00m:\n\u001b[0;32m     21\u001b[0m         \u001b[39mif\u001b[39;00m verbose: \u001b[39mprint\u001b[39m(\u001b[39mf\u001b[39m\u001b[39m'\u001b[39m\u001b[39mmatch: \u001b[39m\u001b[39m{\u001b[39;00mresult[\u001b[39m0\u001b[39m]\u001b[39m}\u001b[39;00m\u001b[39m'\u001b[39m)\n",
      "File \u001b[1;32mc:\\Users\\danie\\anaconda3\\envs\\data_science1\\Lib\\re\\__init__.py:176\u001b[0m, in \u001b[0;36msearch\u001b[1;34m(pattern, string, flags)\u001b[0m\n\u001b[0;32m    173\u001b[0m \u001b[39mdef\u001b[39;00m \u001b[39msearch\u001b[39m(pattern, string, flags\u001b[39m=\u001b[39m\u001b[39m0\u001b[39m):\n\u001b[0;32m    174\u001b[0m \u001b[39m    \u001b[39m\u001b[39m\"\"\"Scan through string looking for a match to the pattern, returning\u001b[39;00m\n\u001b[0;32m    175\u001b[0m \u001b[39m    a Match object, or None if no match was found.\"\"\"\u001b[39;00m\n\u001b[1;32m--> 176\u001b[0m     \u001b[39mreturn\u001b[39;00m _compile(pattern, flags)\u001b[39m.\u001b[39msearch(string)\n",
      "\u001b[1;31mTypeError\u001b[0m: expected string or bytes-like object, got 'Series'"
     ]
    }
   ],
   "source": [
    "search_and_remove_patterns(df1, [r'\\(PDF, \\d+\\.\\d* KB\\)', r'\\(PDF, \\d+\\.\\d* MB\\)', r'\\(PDF\\)'], verbose=True)"
   ]
  }
 ],
 "metadata": {
  "kernelspec": {
   "display_name": "data_science1",
   "language": "python",
   "name": "python3"
  },
  "language_info": {
   "codemirror_mode": {
    "name": "ipython",
    "version": 3
   },
   "file_extension": ".py",
   "mimetype": "text/x-python",
   "name": "python",
   "nbconvert_exporter": "python",
   "pygments_lexer": "ipython3",
   "version": "3.11.3"
  },
  "orig_nbformat": 4
 },
 "nbformat": 4,
 "nbformat_minor": 2
}
